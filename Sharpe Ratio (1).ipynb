{
 "cells": [
  {
   "cell_type": "code",
   "execution_count": null,
   "metadata": {},
   "outputs": [],
   "source": [
    "import pandas as pd \n",
    "import numpy as np\n",
    "import matplotlib.pyplot as plt\n",
    "import plotly.express as px\n",
    "plt.style.use('ggplot')"
   ]
  },
  {
   "cell_type": "code",
   "execution_count": null,
   "metadata": {},
   "outputs": [],
   "source": [
    "\n",
    "companies = ['Microsoft', 'Apple', 'Amazon', 'Alphabet', 'Facebook', 'Visa', 'JP', 'JNJ', 'Walmart', 'Mastercard']\n",
    "market_cap = [1567, 1909, 1578, 1025, 754, 428, 321, 388, 370, 332]\n",
    "microsoft_data = pd.read_csv('MSFT (1).csv', parse_dates = ['Date'], index_col = ['Date'])\n",
    "\n",
    "apple_data = pd.read_csv('AAPL (1).csv', parse_dates = ['Date'], index_col = ['Date'])\n",
    "\n",
    "amazon_data = pd.read_csv('AMZN (1).csv', parse_dates = ['Date'], index_col = ['Date'])\n",
    "\n",
    "alphabet_data = pd.read_csv('GOOGL (1).csv', parse_dates = ['Date'], index_col = ['Date'])\n",
    "\n",
    "facebook_data = pd.read_csv('FB (2).csv', parse_dates = ['Date'], index_col = ['Date'])\n",
    "\n",
    "visa_data = pd.read_csv('V (1).csv', parse_dates = ['Date'], index_col = ['Date'])\n",
    "\n",
    "jp_data = pd.read_csv('JPM (1).csv', parse_dates = ['Date'], index_col = ['Date'])\n",
    "\n",
    "jnj_data = pd.read_csv('JNJ (1).csv', parse_dates = ['Date'], index_col = ['Date'])\n",
    "\n",
    "walmart_data = pd.read_csv('WMT (1).csv', parse_dates = ['Date'], index_col = ['Date'])\n",
    "\n",
    "mastercard_data = pd.read_csv('MA (1).csv', parse_dates = ['Date'], index_col = ['Date'])\n",
    "\n",
    "benchmark_data = pd.read_csv('^GSPC (1).csv', parse_dates = ['Date'], index_col = ['Date'])\n",
    "data_together = pd.concat([microsoft_data[['Adj Close']],apple_data[['Adj Close']], amazon_data[['Adj Close']], alphabet_data[['Adj Close']], facebook_data[['Adj Close']], visa_data[['Adj Close']], jp_data[['Adj Close']], jnj_data[['Adj Close']], walmart_data[['Adj Close']], mastercard_data[['Adj Close']]], axis = 1)\n",
    "\n",
    "data_together.columns = [ 'Microsoft', 'Apple','Amazon', 'Alphabet', 'Facebook', 'Visa', 'JP', 'JNJ', 'Walmart', 'Mastercard']\n",
    "all_columns = ['microsoft', 'apple', 'amazon', 'alphabet', 'facebook', 'visa', 'jp morgan', 'johnson and johnson', 'walmart', 'mastercard']"
   ]
  },
  {
   "cell_type": "code",
   "execution_count": null,
   "metadata": {
    "scrolled": true
   },
   "outputs": [],
   "source": [
    "print('Here are the list of stocks that you can analyze: Microsoft, Apple, Amazon, Alphabet, Facebook, Visa, JP Morgan, Johnson and Johnson, Walmart, Mastercard')\n",
    "stocks = input('What stocks would you like to analyze: ').lower().split(',')\n",
    "stripped_stocks = [stock.strip() for stock in stocks]\n",
    "counter = 0\n",
    "while True:\n",
    "    check = all(item in all_columns for item in stripped_stocks)\n",
    "    if check == True:\n",
    "        break\n",
    "    else:\n",
    "        print('You spelled something wrong, please re-enter your stocks')\n",
    "        stocks = input('What stocks would you like to analyze: ').lower().split(',')\n",
    "        stripped_stocks = [stock.strip() for stock in stocks]\n"
   ]
  },
  {
   "cell_type": "code",
   "execution_count": null,
   "metadata": {},
   "outputs": [],
   "source": [
    "name_matches= {'microsoft':'Microsoft',\n",
    "         'apple':'Apple',\n",
    "         'facebook':'Facebook',\n",
    "         'jp morgan':\"JP\",\n",
    "         'johnson and johnson':'JNJ',\n",
    "         'walmart':'Walmart',\n",
    "         'mastercard':'Mastercard',\n",
    "         'alphabet':'Alphabet',\n",
    "         'amazon':'Amazon',\n",
    "         'visa':'Visa'}\n",
    "number_matches = {'microsoft': 1567,\n",
    "         'apple': 1909,\n",
    "         'facebook': 754,\n",
    "         'jp morgan': 321,\n",
    "         'johnson and johnson': 388,\n",
    "         'walmart': 370,\n",
    "         'mastercard': 332,\n",
    "         'alphabet': 1025,\n",
    "         'amazon': 1578,\n",
    "         'visa': 428}\n",
    "\n",
    "for column in all_columns:\n",
    "    if column not in stripped_stocks:\n",
    "        data_together.drop(name_matches[column], axis = 1, inplace = True)\n",
    "        companies.remove(name_matches[column])\n",
    "        market_cap.remove(number_matches[column])"
   ]
  },
  {
   "cell_type": "code",
   "execution_count": null,
   "metadata": {
    "scrolled": true
   },
   "outputs": [],
   "source": [
    "print('Before we start I want you to take a guess on which stock you think will perform best based on market cap')\n",
    "plt.bar(companies, market_cap, color=['blue', 'red', 'green', 'black', 'cyan'])\n",
    "plt.title('Market Cap')\n",
    "plt.ylabel('In Billions')\n",
    "plt.xticks(rotation = 90)\n",
    "plt.show()\n",
    "guess = input('Your guess: ')"
   ]
  },
  {
   "cell_type": "code",
   "execution_count": null,
   "metadata": {
    "scrolled": false
   },
   "outputs": [],
   "source": [
    "fig = px.line(data_together, x=data_together.index, y = data_together.columns)\n",
    "fig.update_layout(\n",
    "    title={\n",
    "        'text': \"Stock Prices in Dollars\"})\n",
    "fig.update_xaxes(\n",
    "    rangeslider_visible=True,\n",
    "    rangeselector=dict(\n",
    "        buttons=list([\n",
    "            dict(count=1, label=\"1m\", step=\"month\", stepmode=\"backward\"),\n",
    "            dict(count=6, label=\"6m\", step=\"month\", stepmode=\"backward\"),\n",
    "            dict(count=1, label=\"YTD\", step=\"year\", stepmode=\"todate\"),\n",
    "            dict(step=\"all\")\n",
    "        ])\n",
    "    ),\n",
    "    showspikes = True\n",
    ")\n",
    "\n",
    "fig.update_traces(hovertemplate=None)\n",
    "fig.update_layout(hovermode=\"x\")\n",
    "fig.update_layout(legend_title_text='Companies')\n",
    "fig.update_layout(xaxis_showgrid=False, yaxis_showgrid=False)\n",
    "print('NOTE: All line graphs are interactive in several ways. You can use the range slider on the bottom to adjust the dates, and the buttons below to adjust the dates. You can also select each item in the legend to hide that line. Furthermore, hovering over the line will display the values as a hover text. ')\n",
    "fig.show()\n",
    "print('Stock prices for the companies you inputted on a daily basis')"
   ]
  },
  {
   "cell_type": "code",
   "execution_count": null,
   "metadata": {
    "scrolled": true
   },
   "outputs": [],
   "source": [
    "fig_1 = px.line(benchmark_data['Adj Close'], x = benchmark_data.index, y = 'Adj Close', title = 'S&P 500 Data')\n",
    "fig_1.update_xaxes(\n",
    "    rangeslider_visible=True,\n",
    "    rangeselector=dict(\n",
    "        buttons=list([\n",
    "            dict(count=1, label=\"1m\", step=\"month\", stepmode=\"backward\"),\n",
    "            dict(count=6, label=\"6m\", step=\"month\", stepmode=\"backward\"),\n",
    "            dict(count=1, label=\"YTD\", step=\"year\", stepmode=\"todate\"),\n",
    "            dict(step=\"all\")\n",
    "        ])\n",
    "    )\n",
    ")\n",
    "\n",
    "fig_1.update_traces(hovertemplate=None)\n",
    "fig_1.update_layout(hovermode=\"x\")\n",
    "fig_1.update_layout(xaxis_showgrid=False, yaxis_showgrid=False)\n",
    "fig_1.show()\n",
    "print('This graph displays the daily S&P 500 stock index, which will be used as the benchmark to calculate the Sharpe Ratio')"
   ]
  },
  {
   "cell_type": "code",
   "execution_count": null,
   "metadata": {
    "scrolled": true
   },
   "outputs": [],
   "source": [
    "stock_returns = data_together.pct_change()\n",
    "fig_2 = px.line(stock_returns, x= stock_returns.index, y = stock_returns.columns)\n",
    "fig_2.update_layout(\n",
    "    title={\n",
    "        'text': \"Percent Changes\"})\n",
    "fig_2.update_xaxes(\n",
    "    rangeslider_visible=True,\n",
    "    rangeselector=dict(\n",
    "        buttons=list([\n",
    "            dict(count=1, label=\"1m\", step=\"month\", stepmode=\"backward\"),\n",
    "            dict(count=6, label=\"6m\", step=\"month\", stepmode=\"backward\"),\n",
    "            dict(count=1, label=\"YTD\", step=\"year\", stepmode=\"todate\"),\n",
    "            dict(step=\"all\")\n",
    "        ])\n",
    "    ),\n",
    "    showspikes = True\n",
    ")\n",
    "\n",
    "fig_2.update_layout(legend_title_text='Companies')\n",
    "fig_2.update_layout(xaxis_showgrid=False, yaxis_showgrid=False)\n",
    "print('NOTE: You can click the line in the legend next to the company name to hide that line.')\n",
    "fig_2.show()\n",
    "print('This graph displays the percent change for each stock on a daily basis. The percent change represents the returns for each stock')"
   ]
  },
  {
   "cell_type": "code",
   "execution_count": null,
   "metadata": {
    "scrolled": true
   },
   "outputs": [],
   "source": [
    "sp_returns = benchmark_data['Adj Close'].pct_change()\n",
    "fig_3 = px.line(sp_returns, x= benchmark_data.index, y = ['Adj Close'])\n",
    "fig_3.update_layout(\n",
    "    title={\n",
    "        'text': \"Percent Changes\"})\n",
    "fig_3.update_xaxes(\n",
    "    rangeslider_visible=True,\n",
    "    rangeselector=dict(\n",
    "        buttons=list([\n",
    "            dict(count=1, label=\"1m\", step=\"month\", stepmode=\"backward\"),\n",
    "            dict(count=6, label=\"6m\", step=\"month\", stepmode=\"backward\"),\n",
    "            dict(count=1, label=\"YTD\", step=\"year\", stepmode=\"todate\"),\n",
    "            dict(step=\"all\")\n",
    "        ])\n",
    "    )\n",
    ")\n",
    "fig_3.update_layout(showlegend=False)\n",
    "fig_3.update_layout(xaxis_showgrid=False, yaxis_showgrid=False)\n",
    "fig_3.show()\n",
    "print('This graph displays the daily percent change for the S&P 500 index. The percent change represents the return for the S&P 500.')"
   ]
  },
  {
   "cell_type": "code",
   "execution_count": null,
   "metadata": {
    "scrolled": true
   },
   "outputs": [],
   "source": [
    "excess_returns = stock_returns.sub(sp_returns, axis = 0)\n",
    "fig_4 = px.line(excess_returns, x= excess_returns.index, y = excess_returns.columns)\n",
    "fig_4.update_layout(\n",
    "    title={\n",
    "        'text': \"Excess Returns\"})\n",
    "fig_4.update_xaxes(\n",
    "    rangeslider_visible=True,\n",
    "    rangeselector=dict(\n",
    "        buttons=list([\n",
    "            dict(count=1, label=\"1m\", step=\"month\", stepmode=\"backward\"),\n",
    "            dict(count=6, label=\"6m\", step=\"month\", stepmode=\"backward\"),\n",
    "            dict(count=1, label=\"YTD\", step=\"year\", stepmode=\"todate\"),\n",
    "            dict(step=\"all\")\n",
    "        ])\n",
    "    )\n",
    ")\n",
    "\n",
    "fig_4.update_layout(legend_title_text='Companies')\n",
    "fig_4.update_layout(xaxis_showgrid=False, yaxis_showgrid=False)\n",
    "fig_4.show()\n",
    "print('This displays the excess returns between the stocks you selected and the S&P 500. This was calculate by simply subtracting the S&P 500 retuns from the stock returns')"
   ]
  },
  {
   "cell_type": "code",
   "execution_count": null,
   "metadata": {
    "scrolled": true
   },
   "outputs": [],
   "source": [
    "avg_excess_returns = excess_returns.mean()\n",
    "avg_excess_returns.plot.bar(title = 'Mean of Return Difference', color=['blue', 'red', 'green', 'black', 'cyan'])\n",
    "plt.show()\n",
    "print('This is the mean of the excess returns')"
   ]
  },
  {
   "cell_type": "code",
   "execution_count": null,
   "metadata": {
    "scrolled": true
   },
   "outputs": [],
   "source": [
    "sd_excess_returns = excess_returns.std()\n",
    "sd_excess_returns.plot.bar(title = 'Standard Deviation of Return Difference', color=['blue', 'red', 'green', 'black', 'cyan'])\n",
    "plt.show()\n",
    "print('This is the standard Deviation of the excess returns. Standard deviation of each value is the squared difference of each value and the mean. ')\n"
   ]
  },
  {
   "cell_type": "code",
   "execution_count": null,
   "metadata": {
    "scrolled": true
   },
   "outputs": [],
   "source": [
    "daily_sharpe_ratio = avg_excess_returns.div(sd_excess_returns)\n",
    "annual_factor = np.sqrt(252)\n",
    "annual_sharpe_ratio = daily_sharpe_ratio.mul(annual_factor)\n",
    "print(annual_sharpe_ratio.head())\n",
    "annual_sharpe_ratio.plot.bar(title = 'Sharpe Ratio', color=['blue', 'red', 'green', 'black', 'cyan'])\n",
    "plt.show()\n",
    "print(\"You might be wondering why we got all these statistics. Well, we finally have the Sharpe Ratio. This was calculated by dividing the standard deviation of the excess returns by the average of the excess returns. This was then multiplied by the square root of the number of working days, 252. The higher the value, the better the stock performed in term of it's risk. \")\n",
    "print(f'You guessed {guess}')"
   ]
  }
 ],
 "metadata": {
  "kernelspec": {
   "display_name": "Python 3",
   "language": "python",
   "name": "python3"
  },
  "language_info": {
   "codemirror_mode": {
    "name": "ipython",
    "version": 3
   },
   "file_extension": ".py",
   "mimetype": "text/x-python",
   "name": "python",
   "nbconvert_exporter": "python",
   "pygments_lexer": "ipython3",
   "version": "3.7.6"
  }
 },
 "nbformat": 4,
 "nbformat_minor": 4
}
